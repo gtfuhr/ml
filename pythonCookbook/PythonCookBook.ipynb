{
 "cells": [
  {
   "cell_type": "markdown",
   "metadata": {},
   "source": [
    "# Notebook for the documentation of diferent Python 3 recipes\n",
    "\n",
    "## Data structures and algorithms\n",
    "#### The first one is a love of mine, variable unpacking\n",
    "### 1.1 Variable unpacking and 1.2 unpacking iterables of arbitrary size"
   ]
  },
  {
   "cell_type": "code",
   "execution_count": 5,
   "metadata": {},
   "outputs": [
    {
     "name": "stdout",
     "output_type": "stream",
     "text": [
      "p =  (4, 5) \n",
      "a =  4 , b =  5\n"
     ]
    }
   ],
   "source": [
    "p = (4, 5)\n",
    "a, b = p\n",
    "print(\"p = \",p,\"\\na = \",a,\", b = \",b)"
   ]
  },
  {
   "cell_type": "code",
   "execution_count": 8,
   "metadata": {},
   "outputs": [
    {
     "name": "stdout",
     "output_type": "stream",
     "text": [
      "list => [1, 2, 3, 4, 5, 6, 7, 8, 9, 10]\n",
      "\thead =>  1 \n",
      "\ttail =>  [2, 3, 4, 5, 6, 7, 8, 9, 10]\n"
     ]
    }
   ],
   "source": [
    "list_of_items = [1, 2, 3, 4, 5, 6, 7, 8, 9, 10]\n",
    "head, *tail = list_of_items\n",
    "print(\"list =>\",list_of_items)\n",
    "print(\"\\thead => \", head,\"\\n\\ttail => \",tail)"
   ]
  },
  {
   "cell_type": "code",
   "execution_count": 10,
   "metadata": {},
   "outputs": [
    {
     "name": "stdout",
     "output_type": "stream",
     "text": [
      "list => [1, 2, 3, 4, 5, 6, 7, 8, 9, 10]\n",
      "\tbegin =>  1 \n",
      "\tmiddle => [2, 3, 4, 5, 6, 7, 8, 9] \n",
      "\tend => 10\n"
     ]
    }
   ],
   "source": [
    "list_of_items = [1, 2, 3, 4, 5, 6, 7, 8, 9, 10]\n",
    "begin, *middle, end = list_of_items\n",
    "print(\"list =>\", list_of_items)\n",
    "print(\"\\tbegin => \", begin,\"\\n\\tmiddle =>\", middle, \"\\n\\tend =>\",end)"
   ]
  },
  {
   "cell_type": "markdown",
   "metadata": {},
   "source": [
    "### 1.3 Keep last N items"
   ]
  },
  {
   "cell_type": "code",
   "execution_count": 13,
   "metadata": {},
   "outputs": [
    {
     "name": "stdout",
     "output_type": "stream",
     "text": [
      "lalalala\n",
      "\n",
      "this is a text file\n",
      "\n",
      "this is the third line\n",
      "\n",
      "this is the line of index 3\n",
      "\n",
      "hahahahha\n",
      "\n",
      "can you find the word python in it?\n",
      "--------------------\n"
     ]
    }
   ],
   "source": [
    "from collections import deque\n",
    "# A list-like sequence optimized for data accesses near its endpoints.\n",
    "\n",
    "def search(lines, pattern, history=5):\n",
    "    previous_lines = deque(maxlen=history)\n",
    "    for line in lines:\n",
    "        if pattern in line:\n",
    "            yield line, previous_lines\n",
    "        previous_lines.append(line)\n",
    "with open(\"text.txt\") as f:\n",
    "    for line, prev_lines in search(f, 'python', 5):\n",
    "        for pline in prev_lines:\n",
    "            print(pline)\n",
    "        print(line, end='')\n",
    "        print('-'*20)"
   ]
  },
  {
   "cell_type": "markdown",
   "metadata": {},
   "source": [
    "### 1.4 Find N largest numbers and N smallest numbers faster in a list using heap"
   ]
  },
  {
   "cell_type": "code",
   "execution_count": 25,
   "metadata": {},
   "outputs": [
    {
     "name": "stdout",
     "output_type": "stream",
     "text": [
      "list =>  [83, 67, 12, 58, 18, 42, -3, -35, 78, 46]\n",
      "n => 2\n",
      "n largest =>  [83, 78]\n",
      "n smallest =>  [-35, -3]\n"
     ]
    }
   ],
   "source": [
    "import heapq\n",
    "import random\n",
    "# Heap queue algorithm (a.k.a. priority queue).\n",
    "\n",
    "list_of_items = [random.randint(-99,99) for i in range(10)]\n",
    "print(\"list => \",list_of_items)\n",
    "print(\"n => 2\")\n",
    "print(\"n largest => \", heapq.nlargest(2, list_of_items))\n",
    "print(\"n smallest => \", heapq.nsmallest(2, list_of_items))"
   ]
  },
  {
   "cell_type": "markdown",
   "metadata": {},
   "source": [
    "### 1.5 Implementing a priority queue"
   ]
  },
  {
   "cell_type": "code",
   "execution_count": 30,
   "metadata": {},
   "outputs": [
    {
     "name": "stdout",
     "output_type": "stream",
     "text": [
      "Item('lala')\n",
      "Item('test')\n",
      "Item('foo')\n",
      "Item('fooSamePriority')\n"
     ]
    }
   ],
   "source": [
    "import heapq\n",
    "\n",
    "class PriorityQueue:\n",
    "    def __init__(self):\n",
    "        self._queue = []\n",
    "        self._index = 0\n",
    "    def push(self, item, priority):\n",
    "        heapq.heappush(self._queue, (-priority, self._index, item))\n",
    "        self._index += 1\n",
    "    def pop(self):\n",
    "        return heapq.heappop(self._queue)[-1]\n",
    "\n",
    "class Item:\n",
    "    def __init__(self, name):\n",
    "        self.name = name\n",
    "    def __repr__(self):\n",
    "        return 'Item({!r})'.format(self.name)\n",
    "    \n",
    "q = PriorityQueue()\n",
    "q.push(Item('foo'), 1)\n",
    "q.push(Item('fooSamePriority'), 1)\n",
    "q.push(Item('test'), 2)\n",
    "q.push(Item('lala'), 3)\n",
    "\n",
    "print(q.pop())\n",
    "print(q.pop())\n",
    "print(q.pop())\n",
    "print(q.pop())\n"
   ]
  },
  {
   "cell_type": "markdown",
   "metadata": {},
   "source": [
    "### 1.6 Mapping multiple values to the same key in a dict"
   ]
  },
  {
   "cell_type": "code",
   "execution_count": 34,
   "metadata": {},
   "outputs": [
    {
     "name": "stdout",
     "output_type": "stream",
     "text": [
      "Dictionary of lists:\n",
      " defaultdict(<class 'list'>, {'l1': [1, 1, 2]})\n",
      "\n",
      "Dictionary of Sets:\n",
      " defaultdict(<class 'set'>, {'l1': {1, 2}})\n"
     ]
    }
   ],
   "source": [
    "from collections import defaultdict\n",
    "# The default factory is called without arguments to produce\n",
    "# a new value when a key is not present, in __getitem__ only.\n",
    "# A defaultdict compares equal to a dict with the same items.\n",
    "# All remaining arguments are treated the same as if they were\n",
    "# passed to the dict constructor, including keyword arguments.\n",
    "dictionaryOfLists = defaultdict(list)\n",
    "dictionaryOfSets = defaultdict(set)\n",
    "\n",
    "dictionaryOfLists['l1'].append(1)\n",
    "dictionaryOfLists['l1'].append(1)\n",
    "dictionaryOfLists['l1'].append(2)\n",
    "\n",
    "dictionaryOfSets['l1'].add(1)\n",
    "dictionaryOfSets['l1'].add(1)\n",
    "dictionaryOfSets['l1'].add(2)\n",
    "\n",
    "print(\"Dictionary of lists:\\n\", dictionaryOfLists)\n",
    "\n",
    "print(\"\\nDictionary of Sets:\\n\", dictionaryOfSets)\n",
    "\n",
    "# This way is more readable than:\n",
    "# d = {}\n",
    "# for key, value in pairs:\n",
    "#     if key not in d:\n",
    "#         d[key] = []\n",
    "#     d[key].append(value)"
   ]
  },
  {
   "cell_type": "markdown",
   "metadata": {},
   "source": [
    "### 1.7 Keeping the order in dictionaries "
   ]
  },
  {
   "cell_type": "code",
   "execution_count": 39,
   "metadata": {},
   "outputs": [
    {
     "name": "stdout",
     "output_type": "stream",
     "text": [
      "Ordered dict:  OrderedDict([('key1', 1), ('key2', 2), ('key3', 3)])\n",
      "Normal dict:  {'key1': 1, 'key2': 2, 'key3': 3}\n"
     ]
    }
   ],
   "source": [
    "from collections import OrderedDict\n",
    "# Dictionary that remembers insertion order\n",
    "\n",
    "ord_d = OrderedDict()\n",
    "ord_d['key1'] = 1\n",
    "ord_d['key2'] = 2\n",
    "ord_d['key3'] = 3\n",
    "ord_d['key2'] = 43\n",
    "ord_d['key2'] = 2\n",
    "\n",
    "\n",
    "print(\"Ordered dict: \", ord_d)\n",
    "\n",
    "d = dict()\n",
    "d['key1'] = 1\n",
    "d['key2'] = 2\n",
    "d['key3'] = 3\n",
    "d['key2'] = 43\n",
    "d['key2'] = 2\n",
    "print(\"Normal dict: \", d)"
   ]
  },
  {
   "cell_type": "markdown",
   "metadata": {},
   "source": [
    "### 1.8 Making calculations with dictionaries"
   ]
  },
  {
   "cell_type": "code",
   "execution_count": 42,
   "metadata": {},
   "outputs": [
    {
     "name": "stdout",
     "output_type": "stream",
     "text": [
      "Min price: (100, 'LOL')\n",
      "Max price: (300, 'PETR')\n"
     ]
    }
   ],
   "source": [
    "prices = {'PETR': 300, 'ABS': 200, 'LOL': 100}\n",
    "min_price = min(zip(prices.values(), prices.keys()))\n",
    "max_price = max(zip(prices.values(), prices.keys()))\n",
    "print(\"Min price:\", min_price)\n",
    "print(\"Max price:\", max_price)"
   ]
  },
  {
   "cell_type": "markdown",
   "metadata": {},
   "source": [
    "### 1.9 Find two items in common in two dicts"
   ]
  },
  {
   "cell_type": "code",
   "execution_count": 47,
   "metadata": {},
   "outputs": [
    {
     "name": "stdout",
     "output_type": "stream",
     "text": [
      "{'y', 'x'}\n",
      "{'z'}\n",
      "{('x', 1)}\n"
     ]
    }
   ],
   "source": [
    "d1 = {'x':1, 'y': 2, 'z': 3}\n",
    "d2 = {'x':1, 'y': 42, 'w': 3}\n",
    "\n",
    "print(d1.keys() & d2.keys())\n",
    "print(d1.keys() - d2.keys())\n",
    "print(d1.items() & d2.items())"
   ]
  },
  {
   "cell_type": "markdown",
   "metadata": {},
   "source": [
    "### 1.10 Removing duplicate items from a sequence, preserving the order of the data"
   ]
  },
  {
   "cell_type": "code",
   "execution_count": null,
   "metadata": {},
   "outputs": [],
   "source": [
    " "
   ]
  }
 ],
 "metadata": {
  "kernelspec": {
   "display_name": "Python 3",
   "language": "python",
   "name": "python3"
  },
  "language_info": {
   "codemirror_mode": {
    "name": "ipython",
    "version": 3
   },
   "file_extension": ".py",
   "mimetype": "text/x-python",
   "name": "python",
   "nbconvert_exporter": "python",
   "pygments_lexer": "ipython3",
   "version": "3.7.4"
  }
 },
 "nbformat": 4,
 "nbformat_minor": 2
}
