{
 "cells": [
  {
   "cell_type": "markdown",
   "metadata": {},
   "source": [
    "# Notebook for the documentation of diferent Python 3 recipes\n",
    "\n",
    "## 1.0 Data structures and algorithms\n",
    "#### The first one is a love of mine, variable unpacking\n",
    "### 1.1 Variable unpacking and 1.2 unpacking iterables of arbitrary size"
   ]
  },
  {
   "cell_type": "code",
   "execution_count": 85,
   "metadata": {},
   "outputs": [
    {
     "name": "stdout",
     "output_type": "stream",
     "text": [
      "p =  (4, 5) \n",
      "a =  4 , b =  5\n"
     ]
    }
   ],
   "source": [
    "p = (4, 5)\n",
    "a, b = p\n",
    "print(\"p = \",p,\"\\na = \",a,\", b = \",b)"
   ]
  },
  {
   "cell_type": "code",
   "execution_count": 86,
   "metadata": {},
   "outputs": [
    {
     "name": "stdout",
     "output_type": "stream",
     "text": [
      "list => [1, 2, 3, 4, 5, 6, 7, 8, 9, 10]\n",
      "\thead =>  1 \n",
      "\ttail =>  [2, 3, 4, 5, 6, 7, 8, 9, 10]\n"
     ]
    }
   ],
   "source": [
    "list_of_items = [1, 2, 3, 4, 5, 6, 7, 8, 9, 10]\n",
    "head, *tail = list_of_items\n",
    "print(\"list =>\",list_of_items)\n",
    "print(\"\\thead => \", head,\"\\n\\ttail => \",tail)"
   ]
  },
  {
   "cell_type": "code",
   "execution_count": 87,
   "metadata": {},
   "outputs": [
    {
     "name": "stdout",
     "output_type": "stream",
     "text": [
      "list => [1, 2, 3, 4, 5, 6, 7, 8, 9, 10]\n",
      "\tbegin =>  1 \n",
      "\tmiddle => [2, 3, 4, 5, 6, 7, 8, 9] \n",
      "\tend => 10\n"
     ]
    }
   ],
   "source": [
    "list_of_items = [1, 2, 3, 4, 5, 6, 7, 8, 9, 10]\n",
    "begin, *middle, end = list_of_items\n",
    "print(\"list =>\", list_of_items)\n",
    "print(\"\\tbegin => \", begin,\"\\n\\tmiddle =>\", middle, \"\\n\\tend =>\",end)"
   ]
  },
  {
   "cell_type": "markdown",
   "metadata": {},
   "source": [
    "### 1.3 Keep last N items"
   ]
  },
  {
   "cell_type": "code",
   "execution_count": 88,
   "metadata": {},
   "outputs": [
    {
     "name": "stdout",
     "output_type": "stream",
     "text": [
      "lalalala\n",
      "\n",
      "this is a text file\n",
      "\n",
      "this is the third line\n",
      "\n",
      "this is the line of index 3\n",
      "\n",
      "hahahahha\n",
      "\n",
      "can you find the word python in it?\n",
      "--------------------\n"
     ]
    }
   ],
   "source": [
    "from collections import deque\n",
    "# A list-like sequence optimized for data accesses near its endpoints.\n",
    "\n",
    "def search(lines, pattern, history=5):\n",
    "    previous_lines = deque(maxlen=history)\n",
    "    for line in lines:\n",
    "        if pattern in line:\n",
    "            yield line, previous_lines\n",
    "        previous_lines.append(line)\n",
    "with open(\"text.txt\") as f:\n",
    "    for line, prev_lines in search(f, 'python', 5):\n",
    "        for pline in prev_lines:\n",
    "            print(pline)\n",
    "        print(line, end='')\n",
    "        print('-'*20)"
   ]
  },
  {
   "cell_type": "markdown",
   "metadata": {},
   "source": [
    "### 1.4 Find N largest numbers and N smallest numbers faster in a list using heap"
   ]
  },
  {
   "cell_type": "code",
   "execution_count": 89,
   "metadata": {},
   "outputs": [
    {
     "name": "stdout",
     "output_type": "stream",
     "text": [
      "list =>  [33, 23, -6, -57, -17, 13, -57, -31, 86, 59]\n",
      "n => 2\n",
      "n largest =>  [86, 59]\n",
      "n smallest =>  [-57, -57]\n"
     ]
    }
   ],
   "source": [
    "import heapq\n",
    "import random\n",
    "# Heap queue algorithm (a.k.a. priority queue).\n",
    "\n",
    "list_of_items = [random.randint(-99,99) for i in range(10)]\n",
    "print(\"list => \",list_of_items)\n",
    "print(\"n => 2\")\n",
    "print(\"n largest => \", heapq.nlargest(2, list_of_items))\n",
    "print(\"n smallest => \", heapq.nsmallest(2, list_of_items))"
   ]
  },
  {
   "cell_type": "markdown",
   "metadata": {},
   "source": [
    "### 1.5 Implementing a priority queue"
   ]
  },
  {
   "cell_type": "code",
   "execution_count": 90,
   "metadata": {},
   "outputs": [
    {
     "name": "stdout",
     "output_type": "stream",
     "text": [
      "Item('lala')\n",
      "Item('test')\n",
      "Item('foo')\n",
      "Item('fooSamePriority')\n"
     ]
    }
   ],
   "source": [
    "import heapq\n",
    "\n",
    "class PriorityQueue:\n",
    "    def __init__(self):\n",
    "        self._queue = []\n",
    "        self._index = 0\n",
    "    def push(self, item, priority):\n",
    "        heapq.heappush(self._queue, (-priority, self._index, item))\n",
    "        self._index += 1\n",
    "    def pop(self):\n",
    "        return heapq.heappop(self._queue)[-1]\n",
    "\n",
    "class Item:\n",
    "    def __init__(self, name):\n",
    "        self.name = name\n",
    "    def __repr__(self):\n",
    "        return 'Item({!r})'.format(self.name)\n",
    "    \n",
    "q = PriorityQueue()\n",
    "q.push(Item('foo'), 1)\n",
    "q.push(Item('fooSamePriority'), 1)\n",
    "q.push(Item('test'), 2)\n",
    "q.push(Item('lala'), 3)\n",
    "\n",
    "print(q.pop())\n",
    "print(q.pop())\n",
    "print(q.pop())\n",
    "print(q.pop())\n"
   ]
  },
  {
   "cell_type": "markdown",
   "metadata": {},
   "source": [
    "### 1.6 Mapping multiple values to the same key in a dict"
   ]
  },
  {
   "cell_type": "code",
   "execution_count": 91,
   "metadata": {},
   "outputs": [
    {
     "name": "stdout",
     "output_type": "stream",
     "text": [
      "Dictionary of lists:\n",
      " defaultdict(<class 'list'>, {'l1': [1, 1, 2]})\n",
      "\n",
      "Dictionary of Sets:\n",
      " defaultdict(<class 'set'>, {'l1': {1, 2}})\n"
     ]
    }
   ],
   "source": [
    "from collections import defaultdict\n",
    "# The default factory is called without arguments to produce\n",
    "# a new value when a key is not present, in __getitem__ only.\n",
    "# A defaultdict compares equal to a dict with the same items.\n",
    "# All remaining arguments are treated the same as if they were\n",
    "# passed to the dict constructor, including keyword arguments.\n",
    "dictionaryOfLists = defaultdict(list)\n",
    "dictionaryOfSets = defaultdict(set)\n",
    "\n",
    "dictionaryOfLists['l1'].append(1)\n",
    "dictionaryOfLists['l1'].append(1)\n",
    "dictionaryOfLists['l1'].append(2)\n",
    "\n",
    "dictionaryOfSets['l1'].add(1)\n",
    "dictionaryOfSets['l1'].add(1)\n",
    "dictionaryOfSets['l1'].add(2)\n",
    "\n",
    "print(\"Dictionary of lists:\\n\", dictionaryOfLists)\n",
    "\n",
    "print(\"\\nDictionary of Sets:\\n\", dictionaryOfSets)\n",
    "\n",
    "# This way is more readable than:\n",
    "# d = {}\n",
    "# for key, value in pairs:\n",
    "#     if key not in d:\n",
    "#         d[key] = []\n",
    "#     d[key].append(value)"
   ]
  },
  {
   "cell_type": "markdown",
   "metadata": {},
   "source": [
    "### 1.7 Keeping the order in dictionaries "
   ]
  },
  {
   "cell_type": "code",
   "execution_count": 92,
   "metadata": {},
   "outputs": [
    {
     "name": "stdout",
     "output_type": "stream",
     "text": [
      "Ordered dict:  OrderedDict([('key1', 1), ('key2', 2), ('key3', 3)])\n",
      "Normal dict:  {'key1': 1, 'key2': 2, 'key3': 3}\n"
     ]
    }
   ],
   "source": [
    "from collections import OrderedDict\n",
    "# Dictionary that remembers insertion order\n",
    "\n",
    "ord_d = OrderedDict()\n",
    "ord_d['key1'] = 1\n",
    "ord_d['key2'] = 2\n",
    "ord_d['key3'] = 3\n",
    "ord_d['key2'] = 43\n",
    "ord_d['key2'] = 2\n",
    "\n",
    "\n",
    "print(\"Ordered dict: \", ord_d)\n",
    "\n",
    "d = dict()\n",
    "d['key1'] = 1\n",
    "d['key2'] = 2\n",
    "d['key3'] = 3\n",
    "d['key2'] = 43\n",
    "d['key2'] = 2\n",
    "print(\"Normal dict: \", d)"
   ]
  },
  {
   "cell_type": "markdown",
   "metadata": {},
   "source": [
    "### 1.8 Making calculations with dictionaries"
   ]
  },
  {
   "cell_type": "code",
   "execution_count": 93,
   "metadata": {},
   "outputs": [
    {
     "name": "stdout",
     "output_type": "stream",
     "text": [
      "Min price: (100, 'LOL')\n",
      "Max price: (300, 'PETR')\n"
     ]
    }
   ],
   "source": [
    "prices = {'PETR': 300, 'ABS': 200, 'LOL': 100}\n",
    "min_price = min(zip(prices.values(), prices.keys()))\n",
    "max_price = max(zip(prices.values(), prices.keys()))\n",
    "print(\"Min price:\", min_price)\n",
    "print(\"Max price:\", max_price)"
   ]
  },
  {
   "cell_type": "markdown",
   "metadata": {},
   "source": [
    "### 1.9 Find two items in common in two dicts"
   ]
  },
  {
   "cell_type": "code",
   "execution_count": 94,
   "metadata": {},
   "outputs": [
    {
     "name": "stdout",
     "output_type": "stream",
     "text": [
      "{'y', 'x'}\n",
      "{'z'}\n",
      "{('x', 1)}\n"
     ]
    }
   ],
   "source": [
    "d1 = {'x':1, 'y': 2, 'z': 3}\n",
    "d2 = {'x':1, 'y': 42, 'w': 3}\n",
    "\n",
    "print(d1.keys() & d2.keys())\n",
    "print(d1.keys() - d2.keys())\n",
    "print(d1.items() & d2.items())"
   ]
  },
  {
   "cell_type": "markdown",
   "metadata": {},
   "source": [
    "### 1.10 Removing duplicate items from a sequence, preserving the order of the data"
   ]
  },
  {
   "cell_type": "code",
   "execution_count": 95,
   "metadata": {},
   "outputs": [
    {
     "name": "stdout",
     "output_type": "stream",
     "text": [
      "[2, 2, 4, 4, 4, 0, 4, 4, 2, 3]\n",
      "[2, 4, 0, 3]\n"
     ]
    }
   ],
   "source": [
    " def dedupe(items):\n",
    "        seen = set()\n",
    "        for item in items:\n",
    "            if item not in seen:\n",
    "                yield item\n",
    "                seen.add(item)\n",
    "                \n",
    "list_of_items = [random.randint(0,5) for i in range(10)]\n",
    "print(list_of_items)\n",
    "print(list(dedupe(list_of_items)))"
   ]
  },
  {
   "cell_type": "markdown",
   "metadata": {},
   "source": [
    "### 1.11 Giving names to slices"
   ]
  },
  {
   "cell_type": "code",
   "execution_count": 96,
   "metadata": {},
   "outputs": [
    {
     "name": "stdout",
     "output_type": "stream",
     "text": [
      "Im reading this Python Book\n",
      "I edn hsPto ok n o..I sqiego\n"
     ]
    }
   ],
   "source": [
    "string = \"Im reading this Python Book, and boy... It is quite good\"\n",
    "first_part = slice(0,27)\n",
    "print(string[first_part])\n",
    "steped_string = slice(0,-1,2)\n",
    "print(string[steped_string])"
   ]
  },
  {
   "cell_type": "markdown",
   "metadata": {},
   "source": [
    "### 1.12 Determine items that frequently appear on a sequence"
   ]
  },
  {
   "cell_type": "code",
   "execution_count": 97,
   "metadata": {},
   "outputs": [
    {
     "name": "stdout",
     "output_type": "stream",
     "text": [
      "[5, 4, 3, 5, 4, 0, 4, 4, 3, 4, 1, 4, 5, 3, 1, 2, 0, 2, 5, 4]\n",
      "Counter({4: 7, 5: 4, 3: 3, 0: 2, 1: 2, 2: 2})\n",
      "Top two: [(4, 7), (5, 4)]\n"
     ]
    }
   ],
   "source": [
    "list_of_items = [random.randint(0,5) for i in range(20)]\n",
    "print(list_of_items)\n",
    "\n",
    "from collections import Counter\n",
    "# Dict subclass for counting hashable items.  Sometimes called a bag\n",
    "# or multiset.  Elements are stored as dictionary keys and their counts\n",
    "# are stored as dictionary values.\n",
    "\n",
    "number_counts = Counter(list_of_items)\n",
    "print(number_counts)\n",
    "top_two = number_counts.most_common(2)\n",
    "print(\"Top two:\", top_two)"
   ]
  },
  {
   "cell_type": "markdown",
   "metadata": {},
   "source": [
    "### 1.13 Ordering a list of dictionaries by a common key"
   ]
  },
  {
   "cell_type": "code",
   "execution_count": 98,
   "metadata": {},
   "outputs": [
    {
     "name": "stdout",
     "output_type": "stream",
     "text": [
      "Rows by the first name: [{'first_name': 'Gabriel', 'last_name': 'Fuhr', 'age': 20}, {'first_name': 'Greg', 'last_name': 'Doucette', 'age': 40}, {'first_name': 'Roberto', 'last_name': 'Carlos', 'age': 80}]\n",
      "\n",
      "Rows by the age: [{'first_name': 'Gabriel', 'last_name': 'Fuhr', 'age': 20}, {'first_name': 'Greg', 'last_name': 'Doucette', 'age': 40}, {'first_name': 'Roberto', 'last_name': 'Carlos', 'age': 80}]\n"
     ]
    }
   ],
   "source": [
    "rows = [\n",
    "    {\"first_name\":\"Gabriel\", \"last_name\":\"Fuhr\", \"age\":20},\n",
    "    {\"first_name\":\"Roberto\", \"last_name\":\"Carlos\", \"age\":80},\n",
    "    {\"first_name\":\"Greg\", \"last_name\":\"Doucette\", \"age\":40}\n",
    "]\n",
    "\n",
    "from operator import itemgetter\n",
    "\n",
    "rows_by_first_name = sorted(rows, key=itemgetter(\"first_name\"))\n",
    "rows_by_age = sorted(rows, key=itemgetter(\"age\"))\n",
    "print(\"Rows by the first name:\", rows_by_first_name)\n",
    "print(\"\\nRows by the age:\", rows_by_age)"
   ]
  },
  {
   "cell_type": "markdown",
   "metadata": {},
   "source": [
    "### 1.14 Ordering Objects by attr without native support for comparation "
   ]
  },
  {
   "cell_type": "code",
   "execution_count": 99,
   "metadata": {},
   "outputs": [
    {
     "name": "stdout",
     "output_type": "stream",
     "text": [
      "Original users:  [User(29), User(2), User(13)]\n",
      "Sorted users [User(2), User(13), User(29)]\n"
     ]
    }
   ],
   "source": [
    "class User:\n",
    "    def __init__(self, user_id):\n",
    "        self.user_id = user_id\n",
    "    def __repr__(self):\n",
    "        return 'User({})'.format(self.user_id)\n",
    "    \n",
    "users = [User(29), User(2), User(13)]\n",
    "\n",
    "print(\"Original users: \", users)\n",
    "\n",
    "from operator import attrgetter\n",
    "print(\"Sorted users\", sorted(users, key=attrgetter('user_id')))"
   ]
  },
  {
   "cell_type": "markdown",
   "metadata": {},
   "source": [
    "### 1.15 Group registers according to a specific field "
   ]
  },
  {
   "cell_type": "code",
   "execution_count": 100,
   "metadata": {},
   "outputs": [
    {
     "name": "stdout",
     "output_type": "stream",
     "text": [
      "08/08/1000\n",
      "\t {'first_name': 'Gabriel', 'last_name': 'Fuhr', 'birthDate': '08/08/1000'}\n",
      "\t {'first_name': 'Greg', 'last_name': 'Doucette', 'birthDate': '08/08/1000'}\n",
      "08/08/1400\n",
      "\t {'first_name': 'Roberto', 'last_name': 'Carlos', 'birthDate': '08/08/1400'}\n"
     ]
    }
   ],
   "source": [
    "rows = [\n",
    "    {\"first_name\":\"Gabriel\", \"last_name\":\"Fuhr\", \"birthDate\":\"08/08/1000\",},\n",
    "    {\"first_name\":\"Roberto\", \"last_name\":\"Carlos\", \"birthDate\":\"08/08/1400\"},\n",
    "    {\"first_name\":\"Greg\", \"last_name\":\"Doucette\", \"birthDate\":\"08/08/1000\"}\n",
    "]\n",
    "\n",
    "from operator import itemgetter\n",
    "from itertools import groupby\n",
    "\n",
    "# First we need to order by the desired field\n",
    "rows.sort(key=itemgetter('birthDate'))\n",
    "\n",
    "# Iterate by groups\n",
    "for date, items in groupby(rows, key=itemgetter('birthDate')):\n",
    "    print(date)\n",
    "    for i in items:\n",
    "        print(\"\\t\", i)"
   ]
  },
  {
   "cell_type": "markdown",
   "metadata": {},
   "source": [
    "### 1.16 Filtering elements of a sequence "
   ]
  },
  {
   "cell_type": "code",
   "execution_count": 101,
   "metadata": {},
   "outputs": [
    {
     "name": "stdout",
     "output_type": "stream",
     "text": [
      "[68, 52, 87, 50]\n",
      "[-56, -76, -36, -27, -46, -80]\n",
      "[68, 52, 50]\n",
      "<generator object <genexpr> at 0x7efbe17f8950>\n",
      "68\n",
      "52\n",
      "87\n",
      "50\n",
      "[]\n",
      "[68, 52, 87, 50]\n",
      "['1', '2', '3', '-', 'asdas', 'N/A']\n",
      "['1', '2', '3']\n"
     ]
    }
   ],
   "source": [
    "list_of_items = [random.randint(-99,99) for i in range(10)]\n",
    "print([x for x in list_of_items if x > 0])\n",
    "print([x for x in list_of_items if x < 0])\n",
    "print([x for x in list_of_items if x > 0 and x%2 == 0])\n",
    "\n",
    "generator = (x for x in list_of_items if x > 0)\n",
    "print(generator)\n",
    "for x in generator:\n",
    "    print(x)\n",
    "print(list(generator))\n",
    "generator = (x for x in list_of_items if x > 0)\n",
    "print(list(generator))\n",
    "\n",
    "### Using filter\n",
    "values = ['1', '2', '3', '-', 'asdas', 'N/A']\n",
    "def is_int(val):\n",
    "    try:\n",
    "        x = int(val)\n",
    "        return True\n",
    "    except ValueError:\n",
    "        return False\n",
    "ivals = list(filter(is_int, values))\n",
    "print(values)\n",
    "print(ivals)"
   ]
  },
  {
   "cell_type": "markdown",
   "metadata": {},
   "source": [
    "### 1.17 Extracting a sub dictionary from a dict"
   ]
  },
  {
   "cell_type": "code",
   "execution_count": 102,
   "metadata": {},
   "outputs": [
    {
     "name": "stdout",
     "output_type": "stream",
     "text": [
      "{'PETR': 300, 'ABS': 200, 'LOL': 100}\n",
      "{'PETR': 300, 'ABS': 200}\n"
     ]
    }
   ],
   "source": [
    "prices = {'PETR': 300, 'ABS': 200, 'LOL': 100}\n",
    "p1 = {key: value for key, value in prices.items() if value > 199}\n",
    "print(prices)\n",
    "print(p1)"
   ]
  },
  {
   "cell_type": "markdown",
   "metadata": {},
   "source": [
    "### 1.18 Mapping names to items of a sequence"
   ]
  },
  {
   "cell_type": "code",
   "execution_count": 1,
   "metadata": {},
   "outputs": [
    {
     "name": "stdout",
     "output_type": "stream",
     "text": [
      "Subscriber(addr='gfuhr@aol.net', joined='2001-10-19')\n"
     ]
    }
   ],
   "source": [
    "from collections import namedtuple\n",
    "# Returns a new subclass of tuple with named fields.\n",
    "\n",
    "Subscriber = namedtuple('Subscriber', ['addr', 'joined'])\n",
    "sub = Subscriber('gfuhr@aol.net', '2001-10-19')\n",
    "print(sub)"
   ]
  },
  {
   "cell_type": "markdown",
   "metadata": {},
   "source": [
    "### 1.19 Transforming and reducing data at the same time "
   ]
  },
  {
   "cell_type": "code",
   "execution_count": 8,
   "metadata": {},
   "outputs": [
    {
     "name": "stdout",
     "output_type": "stream",
     "text": [
      "100\n",
      "{'name': 'LOL', 'price': 100}\n"
     ]
    }
   ],
   "source": [
    "numbers = [1, 2, 3, 4, 5, 6, 7, 8, 9]\n",
    "numbers_sum = sum(x/(x*x) for x in numbers)\n",
    "\n",
    "\n",
    "# Use generator expressions instead of list generators if the data will be used only once and then discarted\n",
    "shares = [\n",
    "    {'name':'PETR','price':300}, \n",
    "    {'name':'ABS','price': 200}, \n",
    "    {'name':'LOL','price': 100}]\n",
    "min_price = min(share['price'] for share in shares)\n",
    "print(min_price)\n",
    "# Alternative, show the min price and the min name:\n",
    "min_price = min(shares, key=lambda s: s['price'])\n",
    "print(min_price)"
   ]
  },
  {
   "cell_type": "markdown",
   "metadata": {},
   "source": [
    "### 1.20 Combining multiple mappings in an unique mapping"
   ]
  },
  {
   "cell_type": "code",
   "execution_count": 13,
   "metadata": {},
   "outputs": [
    {
     "name": "stdout",
     "output_type": "stream",
     "text": [
      "1\n",
      "2\n",
      "4\n"
     ]
    }
   ],
   "source": [
    "a = {'x': 1, 'y': 2}\n",
    "b = {'y': 3, 'z': 4}\n",
    "from collections import ChainMap\n",
    "# A ChainMap groups multiple dicts (or other mappings) together\n",
    "# to create a single, updateable view.\n",
    "\n",
    "# The underlying mappings are stored in a list.  That list is public and can\n",
    "# be accessed or updated using the *maps* attribute.  There is no other\n",
    "# state.\n",
    "\n",
    "# Lookups search the underlying mappings successively until a key is found.\n",
    "# In contrast, writes, updates, and deletions only operate on the first\n",
    "# mapping.\n",
    "c = ChainMap(a, b)\n",
    "print(c['x'])\n",
    "print(c['y']) # Duplicate keys will have the value of the first appearance of a key in the mapping\n",
    "print(c['z'])"
   ]
  },
  {
   "cell_type": "markdown",
   "metadata": {},
   "source": [
    "## 2.0 Strings and texts"
   ]
  },
  {
   "cell_type": "markdown",
   "metadata": {},
   "source": [
    "### 2.1 Separating strings according to various delimiters "
   ]
  },
  {
   "cell_type": "code",
   "execution_count": 14,
   "metadata": {},
   "outputs": [
    {
     "data": {
      "text/plain": [
       "['asdasdasda', 'adsasdasaddas', 'asdddsasa', 'dsadsaas', 'sda']"
      ]
     },
     "execution_count": 14,
     "metadata": {},
     "output_type": "execute_result"
    }
   ],
   "source": [
    "line = \"asdasdasda; adsasdasaddas, asdddsasa, dsadsaas, sda\"\n",
    "import re\n",
    "re.split(r'[;,\\s]\\s*',line)"
   ]
  },
  {
   "cell_type": "markdown",
   "metadata": {},
   "source": [
    "### 2.2 Text correspondence at the end or begin of a string "
   ]
  },
  {
   "cell_type": "code",
   "execution_count": 16,
   "metadata": {},
   "outputs": [
    {
     "name": "stdout",
     "output_type": "stream",
     "text": [
      "True True\n"
     ]
    }
   ],
   "source": [
    "string = \"thisIsAPythonProgram.py\"\n",
    "print(string.startswith(\"this\"), string.endswith(\".py\"))"
   ]
  },
  {
   "cell_type": "markdown",
   "metadata": {},
   "source": [
    "### 2.3 Using shell wildcards in Python "
   ]
  },
  {
   "cell_type": "code",
   "execution_count": 19,
   "metadata": {},
   "outputs": [
    {
     "name": "stdout",
     "output_type": "stream",
     "text": [
      "[True, False, False, True]\n"
     ]
    }
   ],
   "source": [
    "from fnmatch import fnmatch, fnmatchcase\n",
    "# Test whether FILENAME matches PATTERN.\n",
    "\n",
    "# Patterns are Unix shell style:\n",
    "\n",
    "# *       matches everything\n",
    "# ?       matches any single character\n",
    "# [seq]   matches any character in seq\n",
    "# [!seq]  matches any char not in seq\n",
    "\n",
    "# An initial period in FILENAME is not special.\n",
    "files = [\"test.txt\", \"program.py\", \"joke.docx\", \"text.txt\"]\n",
    "print(list(fnmatch(file, \"*.txt\") for file in files))"
   ]
  },
  {
   "cell_type": "markdown",
   "metadata": {},
   "source": [
    "### 2.4 Matching and searching for patterns in text "
   ]
  },
  {
   "cell_type": "code",
   "execution_count": 24,
   "metadata": {},
   "outputs": [
    {
     "name": "stdout",
     "output_type": "stream",
     "text": [
      "True\n",
      "False\n"
     ]
    }
   ],
   "source": [
    "import re\n",
    "text1 = '11/27/2012'\n",
    "text2 = 'Nov 27, 2012'\n",
    "\n",
    "regular_expression = r'\\d+/\\d+/\\d+'\n",
    "\n",
    "def isDate(text):\n",
    "    if(re.match(regular_expression, text)):\n",
    "        return True\n",
    "    else:\n",
    "        return False\n",
    "print(isDate(text1))\n",
    "print(isDate(text2))\n",
    "\n",
    "regular_expression = re.compile(r'\\d+/\\d+/\\d+')\n",
    "text = \"Today is a good day 02/10/2020 my lectures will begin at 03/13/2020\"\n",
    "dates = regular_expression.findall(text)"
   ]
  },
  {
   "cell_type": "markdown",
   "metadata": {},
   "source": [
    "#### Using groups to separate fields of the regular expression "
   ]
  },
  {
   "cell_type": "code",
   "execution_count": 32,
   "metadata": {},
   "outputs": [
    {
     "name": "stdout",
     "output_type": "stream",
     "text": [
      "[('02', '10', '2020'), ('03', '13', '2020')]\n",
      "02\n",
      "10\n",
      "2020\n",
      "03\n",
      "13\n",
      "2020\n"
     ]
    }
   ],
   "source": [
    "regular_expression = re.compile(r'(\\d+)/(\\d+)/(\\d+)')\n",
    "text = \"Today is a good day 02/10/2020 my lectures will begin at 03/13/2020\"\n",
    "dates = regular_expression.findall(text)\n",
    "print(dates)\n",
    "for date in dates:\n",
    "    for group in date:\n",
    "        print(group)"
   ]
  },
  {
   "cell_type": "markdown",
   "metadata": {},
   "source": [
    "### 2.5 Searching and substitutting texts "
   ]
  },
  {
   "cell_type": "markdown",
   "metadata": {},
   "source": [
    "#### Simple match and substitute "
   ]
  },
  {
   "cell_type": "code",
   "execution_count": 2,
   "metadata": {},
   "outputs": [
    {
     "name": "stdout",
     "output_type": "stream",
     "text": [
      "this is test of a text, i need to find this in this text\n",
      "fish is test of a text, i need to find fish in fish text\n"
     ]
    }
   ],
   "source": [
    "text = \"this is test of a text, i need to find this in this text\"\n",
    "print(text)\n",
    "text = text.replace(\"this\", \"fish\")\n",
    "print(text)"
   ]
  },
  {
   "cell_type": "markdown",
   "metadata": {},
   "source": [
    "#### More complex patterns and substitution"
   ]
  },
  {
   "cell_type": "code",
   "execution_count": 4,
   "metadata": {},
   "outputs": [
    {
     "name": "stdout",
     "output_type": "stream",
     "text": [
      "Today is a good day 02/10/2020 my lectures will begin at 03/13/2020\n",
      "Today is a good day 2020-02-10 my lectures will begin at 2020-03-13\n"
     ]
    }
   ],
   "source": [
    "text = \"Today is a good day 02/10/2020 my lectures will begin at 03/13/2020\"\n",
    "import re\n",
    "print(text)\n",
    "print(re.sub(r'(\\d+)/(\\d+)/(\\d+)', r'\\3-\\1-\\2', text))"
   ]
  },
  {
   "cell_type": "markdown",
   "metadata": {},
   "source": [
    "#### Even more complex patterns and substitution"
   ]
  },
  {
   "cell_type": "code",
   "execution_count": 8,
   "metadata": {},
   "outputs": [
    {
     "name": "stdout",
     "output_type": "stream",
     "text": [
      "Today is a good day 10 February 2020 my lectures will begin at 13 March 2020\n"
     ]
    }
   ],
   "source": [
    "import re\n",
    "from calendar import month_name\n",
    "text = \"Today is a good day 02/10/2020 my lectures will begin at 03/13/2020\"\n",
    "regular_expression = re.compile(r'(\\d+)/(\\d+)/(\\d+)')\n",
    "\n",
    "def change_date(match):\n",
    "    mon_name = month_name[int(match.group(1))]\n",
    "    return '{} {} {}'.format(match.group(2), mon_name, match.group(3))\n",
    "\n",
    "print(regular_expression.sub(change_date, text))"
   ]
  },
  {
   "cell_type": "markdown",
   "metadata": {},
   "source": [
    "### 2.6 Matching strings while ignoring the Case "
   ]
  },
  {
   "cell_type": "code",
   "execution_count": 11,
   "metadata": {},
   "outputs": [
    {
     "data": {
      "text/plain": [
       "['PYTHON', 'python', 'Python']"
      ]
     },
     "execution_count": 11,
     "metadata": {},
     "output_type": "execute_result"
    }
   ],
   "source": [
    "text = \"UPPER PYTHON, lower python, Mixed Python\"\n",
    "re.findall(\"python\", text, flags=re.IGNORECASE)"
   ]
  },
  {
   "cell_type": "markdown",
   "metadata": {},
   "source": [
    "### 2.7 How to find the least long match using regular expressions  "
   ]
  },
  {
   "cell_type": "code",
   "execution_count": 14,
   "metadata": {},
   "outputs": [
    {
     "name": "stdout",
     "output_type": "stream",
     "text": [
      "['no.']\n",
      "['no.\" Phone says \"yes']\n",
      "['no.', 'yes']\n"
     ]
    }
   ],
   "source": [
    "str_pat = re.compile(r'\\\"(.*)\\\"')\n",
    "text1 = 'Computer says \"no.\"'\n",
    "print(str_pat.findall(text1))\n",
    "text2 = 'Computer says \"no.\" Phone says \"yes\"'\n",
    "print(str_pat.findall(text2))\n",
    "str_pat = re.compile(r'\\\"(.*?)\\\"')\n",
    "print(str_pat.findall(text2))"
   ]
  },
  {
   "cell_type": "markdown",
   "metadata": {},
   "source": [
    "### 2.8 Regular expressions for multiline patterns "
   ]
  },
  {
   "cell_type": "code",
   "execution_count": 22,
   "metadata": {},
   "outputs": [
    {
     "name": "stdout",
     "output_type": "stream",
     "text": [
      "['This is a comment']\n",
      "[]\n",
      "[' This is a multiple\\nlines comment ']\n"
     ]
    }
   ],
   "source": [
    "one_line = \"/*This is a comment*/\"\n",
    "multi_line = \"\"\" /* This is a multiple\n",
    "lines comment */\n",
    "\"\"\"\n",
    "comment_pat = re.compile(r'/\\*(.*?)\\*/')\n",
    "print(comment_pat.findall(one_line))\n",
    "print(comment_pat.findall(multi_line))\n",
    "\n",
    "comment_pat = re.compile(r'/\\*(.*?)\\*/',re.DOTALL)\n",
    "print(comment_pat.findall(multi_line))"
   ]
  },
  {
   "cell_type": "markdown",
   "metadata": {},
   "source": [
    "### 2.9 Normalizing Unicode text "
   ]
  },
  {
   "cell_type": "code",
   "execution_count": 23,
   "metadata": {},
   "outputs": [
    {
     "name": "stdout",
     "output_type": "stream",
     "text": [
      "Spicy Japapeño Spicy Japapeño\n"
     ]
    }
   ],
   "source": [
    "s1 = \"Spicy Japape\\u00f1o\"\n",
    "s2 = \"Spicy Japapen\\u0303o\"\n",
    "print(s1, s2)"
   ]
  },
  {
   "cell_type": "code",
   "execution_count": 29,
   "metadata": {},
   "outputs": [
    {
     "name": "stdout",
     "output_type": "stream",
     "text": [
      "False\n",
      "True\n",
      "'Spicy Japape\\xf1o'\n",
      "True\n",
      "'Spicy Japapen\\u0303o'\n",
      "Spicy Japapeno\n"
     ]
    }
   ],
   "source": [
    "import unicodedata\n",
    "# This module provides access to the Unicode Character Database which\n",
    "# defines character properties for all Unicode characters. The data in\n",
    "# this database is based on the UnicodeData.txt file version\n",
    "# 11.0.0 which is publicly available from ftp://ftp.unicode.org/.\n",
    "\n",
    "# The module uses the same names and symbols as defined by the\n",
    "# UnicodeData File Format 11.0.0.\n",
    "print(s1 == s2)\n",
    "t1 = unicodedata.normalize('NFC', s1)\n",
    "t2 = unicodedata.normalize('NFC', s2)\n",
    "print(t1 == t2)\n",
    "print(ascii(t2))\n",
    "t1 = unicodedata.normalize('NFD', s1)\n",
    "t2 = unicodedata.normalize('NFD', s2)\n",
    "print(t1 == t2)\n",
    "print(ascii(t2))\n",
    "normalized = ''.join(char for char in t1 if not unicodedata.combining(char))\n",
    "print(normalized)"
   ]
  },
  {
   "cell_type": "markdown",
   "metadata": {},
   "source": [
    "### 2.10 Working with Unicode Characters in Regular Expressions "
   ]
  },
  {
   "cell_type": "code",
   "execution_count": 32,
   "metadata": {},
   "outputs": [
    {
     "name": "stdout",
     "output_type": "stream",
     "text": [
      "<re.Match object; span=(0, 6), match='straße'>\n",
      "None\n"
     ]
    }
   ],
   "source": [
    "import re\n",
    "num = re.compile('\\d+')\n",
    "# ASCII digits\n",
    "num.match('123')\n",
    "pat = re.compile('stra\\u00dfe', re.IGNORECASE)\n",
    "s = 'straße'\n",
    "\n",
    "print(pat.match(s))\n",
    "print(pat.match(s.upper()))"
   ]
  },
  {
   "cell_type": "markdown",
   "metadata": {},
   "source": [
    "### 2.11 Removing unwanted characters from Strings "
   ]
  },
  {
   "cell_type": "code",
   "execution_count": 41,
   "metadata": {},
   "outputs": [
    {
     "name": "stdout",
     "output_type": "stream",
     "text": [
      "this is a text\n",
      "this is a text \n",
      "\n",
      "              this is a text\n",
      "text++++++++++\n",
      "-----------text\n",
      "hi---------mark\n",
      "himark\n"
     ]
    }
   ],
   "source": [
    "string = \"              this is a text \\n\"\n",
    "print(string.strip())\n",
    "string = \"              this is a text \\n\"\n",
    "print(string.lstrip())\n",
    "string = \"              this is a text \\n\"\n",
    "print(string.rstrip())\n",
    "\n",
    "text = \"-----------text++++++++++\"\n",
    "print(text.lstrip('-'))\n",
    "print(text.rstrip('+'))\n",
    "\n",
    "text = \"hi---------mark\"\n",
    "print(text.strip('-'))\n",
    "print(text.replace('-',''))"
   ]
  },
  {
   "cell_type": "markdown",
   "metadata": {},
   "source": [
    "### 2.13 Sanitizing and Cleaning Up Text"
   ]
  },
  {
   "cell_type": "code",
   "execution_count": 44,
   "metadata": {},
   "outputs": [
    {
     "name": "stdout",
     "output_type": "stream",
     "text": [
      "pýtĥöñ\f",
      "is\tawesome\r\n",
      "\n",
      "pýtĥöñ is awesome\n",
      "\n"
     ]
    }
   ],
   "source": [
    "string = 'pýtĥöñ\\fis\\tawesome\\r\\n'\n",
    "print(string)\n",
    "remap = {\n",
    "        ord('\\t') : ' ',\n",
    "        ord('\\f'): ' ',\n",
    "        ord('\\r') : None # This actually deletes the character\n",
    "        } \n",
    "a = string.translate(remap)\n",
    "print(a)"
   ]
  },
  {
   "cell_type": "code",
   "execution_count": 46,
   "metadata": {},
   "outputs": [
    {
     "name": "stdout",
     "output_type": "stream",
     "text": [
      "pýtĥöñ is awesome\n",
      " python is awesome\n",
      "\n",
      "١٢٣\n"
     ]
    },
    {
     "data": {
      "text/plain": [
       "'123'"
      ]
     },
     "execution_count": 46,
     "metadata": {},
     "output_type": "execute_result"
    }
   ],
   "source": [
    "import unicodedata\n",
    "import sys\n",
    "cmb_chrs = dict.fromkeys(c for c in range(sys.maxunicode)\n",
    "                        if unicodedata.combining(chr(c)))\n",
    "b = unicodedata.normalize('NFD', a)\n",
    "c = b.translate(cmb_chrs)\n",
    "print(b,c)\n",
    "\n",
    "# This was for text, but for numbers you can use the Unicode digitmap\n",
    "\n",
    "digitmap = {c: ord('0') + unicodedata.digit(chr(c))\n",
    "           for c in range(sys.maxunicode)\n",
    "           if unicodedata.category(chr(c)) == 'Nd'}\n",
    "x = '\\u0661\\u0662\\u0663'\n",
    "print(x)\n",
    "x.translate(digitmap)"
   ]
  },
  {
   "cell_type": "markdown",
   "metadata": {},
   "source": [
    "### 2.14 Aligning text Strings"
   ]
  },
  {
   "cell_type": "code",
   "execution_count": 49,
   "metadata": {},
   "outputs": [
    {
     "name": "stdout",
     "output_type": "stream",
     "text": [
      "Greg Doucette       \n",
      "       Greg Doucette\n",
      "   Greg Doucette    \n",
      "Greg Doucette*******\n",
      "*******Greg Doucette\n",
      "***Greg Doucette****\n"
     ]
    }
   ],
   "source": [
    "text = \"Greg Doucette\"\n",
    "print(text.ljust(20))\n",
    "print(text.rjust(20))\n",
    "print(text.center(20))\n",
    "print(text.ljust(20,'*'))\n",
    "print(text.rjust(20,'*'))\n",
    "print(text.center(20,'*'))"
   ]
  },
  {
   "cell_type": "markdown",
   "metadata": {},
   "source": [
    "#### You can also use the format function to easily adjust things "
   ]
  },
  {
   "cell_type": "code",
   "execution_count": 51,
   "metadata": {},
   "outputs": [
    {
     "name": "stdout",
     "output_type": "stream",
     "text": [
      "       Greg Doucette\n",
      "Greg Doucette       \n",
      "   Greg Doucette    \n",
      "*******Greg Doucette\n",
      "Greg Doucette*******\n",
      "***Greg Doucette****\n"
     ]
    }
   ],
   "source": [
    "print(format(text, '>20'))\n",
    "print(format(text, '<20'))\n",
    "print(format(text, '^20'))\n",
    "print(format(text, '*>20'))\n",
    "print(format(text, '*<20'))\n",
    "print(format(text, '*^20'))"
   ]
  },
  {
   "cell_type": "markdown",
   "metadata": {},
   "source": [
    "### 2.15 Combining and Concatenating Strings"
   ]
  },
  {
   "cell_type": "code",
   "execution_count": null,
   "metadata": {},
   "outputs": [],
   "source": []
  }
 ],
 "metadata": {
  "kernelspec": {
   "display_name": "Python 3",
   "language": "python",
   "name": "python3"
  },
  "language_info": {
   "codemirror_mode": {
    "name": "ipython",
    "version": 3
   },
   "file_extension": ".py",
   "mimetype": "text/x-python",
   "name": "python",
   "nbconvert_exporter": "python",
   "pygments_lexer": "ipython3",
   "version": "3.6.9"
  }
 },
 "nbformat": 4,
 "nbformat_minor": 2
}
