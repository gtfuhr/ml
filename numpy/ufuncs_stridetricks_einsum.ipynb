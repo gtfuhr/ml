{
 "cells": [
  {
   "cell_type": "code",
   "execution_count": 1,
   "metadata": {},
   "outputs": [],
   "source": [
    "import numpy as np"
   ]
  },
  {
   "cell_type": "markdown",
   "metadata": {},
   "source": [
    "For loops vs Numpy\n",
    "<br>\n",
    "Let's take a look at how Numpy's built in mathematical functions save us a lot of time by making looping redundant"
   ]
  },
  {
   "cell_type": "code",
   "execution_count": 2,
   "metadata": {},
   "outputs": [
    {
     "name": "stdout",
     "output_type": "stream",
     "text": [
      "CPU times: user 2.77 ms, sys: 0 ns, total: 2.77 ms\n",
      "Wall time: 13.3 ms\n",
      "CPU times: user 6.71 ms, sys: 5.68 ms, total: 12.4 ms\n",
      "Wall time: 17 ms\n"
     ]
    }
   ],
   "source": [
    "#core/src/multiarray/ctors.c\n",
    "%time x = np.arange(100000)\n",
    "%time y = list(range(100000))"
   ]
  },
  {
   "cell_type": "code",
   "execution_count": 3,
   "metadata": {},
   "outputs": [
    {
     "name": "stdout",
     "output_type": "stream",
     "text": [
      "CPU times: user 652 µs, sys: 101 µs, total: 753 µs\n",
      "Wall time: 9.87 ms\n"
     ]
    },
    {
     "data": {
      "text/plain": [
       "4999950000"
      ]
     },
     "execution_count": 3,
     "metadata": {},
     "output_type": "execute_result"
    }
   ],
   "source": [
    "%time np.sum(x)"
   ]
  },
  {
   "cell_type": "code",
   "execution_count": 4,
   "metadata": {},
   "outputs": [
    {
     "name": "stdout",
     "output_type": "stream",
     "text": [
      "CPU times: user 40.4 ms, sys: 0 ns, total: 40.4 ms\n",
      "Wall time: 55 ms\n"
     ]
    }
   ],
   "source": [
    "%%time\n",
    "total = 0\n",
    "for _ in y:\n",
    "    total += _"
   ]
  },
  {
   "cell_type": "code",
   "execution_count": 5,
   "metadata": {},
   "outputs": [
    {
     "name": "stdout",
     "output_type": "stream",
     "text": [
      "CPU times: user 2.76 ms, sys: 416 µs, total: 3.18 ms\n",
      "Wall time: 2.36 ms\n"
     ]
    }
   ],
   "source": [
    "%%time\n",
    "mean = np.average(x)"
   ]
  },
  {
   "cell_type": "code",
   "execution_count": 6,
   "metadata": {},
   "outputs": [
    {
     "name": "stdout",
     "output_type": "stream",
     "text": [
      "CPU times: user 76.9 ms, sys: 198 µs, total: 77.1 ms\n",
      "Wall time: 136 ms\n"
     ]
    }
   ],
   "source": [
    "%%time \n",
    "total = 0\n",
    "count = 0\n",
    "for _ in y:\n",
    "    total += _\n",
    "    count += _\n",
    "    \n",
    "total / count"
   ]
  },
  {
   "cell_type": "markdown",
   "metadata": {},
   "source": [
    "Which one do you think is faster?\n",
    "<br>\n",
    "abs(3.14159) or np.abs(3.14159)"
   ]
  },
  {
   "cell_type": "code",
   "execution_count": 7,
   "metadata": {},
   "outputs": [
    {
     "name": "stdout",
     "output_type": "stream",
     "text": [
      "CPU times: user 13 µs, sys: 2 µs, total: 15 µs\n",
      "Wall time: 25.5 µs\n",
      "CPU times: user 49 µs, sys: 7 µs, total: 56 µs\n",
      "Wall time: 68.7 µs\n"
     ]
    },
    {
     "data": {
      "text/plain": [
       "3.14159"
      ]
     },
     "execution_count": 7,
     "metadata": {},
     "output_type": "execute_result"
    }
   ],
   "source": [
    "%time abs(-3.14159)\n",
    "%time np.abs(-3.14159)"
   ]
  },
  {
   "cell_type": "markdown",
   "metadata": {},
   "source": [
    "Now which one of these do you think is faster? <br>\n",
    "abs([-1, 2, -3, -1, -4] or np.abs([-1, 2, -3, -1, -4])"
   ]
  },
  {
   "cell_type": "code",
   "execution_count": 8,
   "metadata": {},
   "outputs": [
    {
     "name": "stdout",
     "output_type": "stream",
     "text": [
      "CPU times: user 123 µs, sys: 0 ns, total: 123 µs\n",
      "Wall time: 135 µs\n",
      "CPU times: user 275 µs, sys: 0 ns, total: 275 µs\n",
      "Wall time: 287 µs\n"
     ]
    },
    {
     "data": {
      "text/plain": [
       "array([1, 2, 3, 1, 4, 1, 2, 3, 1, 4, 1, 2, 3, 1, 4, 1, 2, 3, 1, 4, 1, 2,\n",
       "       3, 1, 4, 1, 2, 3, 1, 4, 1, 2, 3, 1, 4, 1, 2, 3, 1, 4, 1, 2, 3, 1,\n",
       "       4, 1, 2, 3, 1, 4, 1, 2, 3, 1, 4, 1, 2, 3, 1, 4, 1, 2, 3, 1, 4, 1,\n",
       "       2, 3, 1, 4, 1, 2, 3, 1, 4, 1, 2, 3, 1, 4, 1, 2, 3, 1, 4, 1, 2, 3,\n",
       "       1, 4, 1, 2, 3, 1, 4, 1, 2, 3, 1, 4, 1, 2, 3, 1, 4, 1, 2, 3, 1, 4,\n",
       "       1, 2, 3, 1, 4, 1, 2, 3, 1, 4, 1, 2, 3, 1, 4, 1, 2, 3, 1, 4, 1, 2,\n",
       "       3, 1, 4, 1, 2, 3, 1, 4, 1, 2, 3, 1, 4, 1, 2, 3, 1, 4, 1, 2, 3, 1,\n",
       "       4, 1, 2, 3, 1, 4, 1, 2, 3, 1, 4, 1, 2, 3, 1, 4, 1, 2, 3, 1, 4, 1,\n",
       "       2, 3, 1, 4, 1, 2, 3, 1, 4, 1, 2, 3, 1, 4, 1, 2, 3, 1, 4, 1, 2, 3,\n",
       "       1, 4, 1, 2, 3, 1, 4, 1, 2, 3, 1, 4, 1, 2, 3, 1, 4, 1, 2, 3, 1, 4,\n",
       "       1, 2, 3, 1, 4, 1, 2, 3, 1, 4, 1, 2, 3, 1, 4, 1, 2, 3, 1, 4, 1, 2,\n",
       "       3, 1, 4, 1, 2, 3, 1, 4, 1, 2, 3, 1, 4, 1, 2, 3, 1, 4, 1, 2, 3, 1,\n",
       "       4, 1, 2, 3, 1, 4, 1, 2, 3, 1, 4, 1, 2, 3, 1, 4, 1, 2, 3, 1, 4, 1,\n",
       "       2, 3, 1, 4, 1, 2, 3, 1, 4, 1, 2, 3, 1, 4, 1, 2, 3, 1, 4, 1, 2, 3,\n",
       "       1, 4, 1, 2, 3, 1, 4, 1, 2, 3, 1, 4, 1, 2, 3, 1, 4, 1, 2, 3, 1, 4,\n",
       "       1, 2, 3, 1, 4, 1, 2, 3, 1, 4, 1, 2, 3, 1, 4, 1, 2, 3, 1, 4, 1, 2,\n",
       "       3, 1, 4, 1, 2, 3, 1, 4, 1, 2, 3, 1, 4, 1, 2, 3, 1, 4, 1, 2, 3, 1,\n",
       "       4, 1, 2, 3, 1, 4, 1, 2, 3, 1, 4, 1, 2, 3, 1, 4, 1, 2, 3, 1, 4, 1,\n",
       "       2, 3, 1, 4, 1, 2, 3, 1, 4, 1, 2, 3, 1, 4, 1, 2, 3, 1, 4, 1, 2, 3,\n",
       "       1, 4, 1, 2, 3, 1, 4, 1, 2, 3, 1, 4, 1, 2, 3, 1, 4, 1, 2, 3, 1, 4,\n",
       "       1, 2, 3, 1, 4, 1, 2, 3, 1, 4, 1, 2, 3, 1, 4, 1, 2, 3, 1, 4, 1, 2,\n",
       "       3, 1, 4, 1, 2, 3, 1, 4, 1, 2, 3, 1, 4, 1, 2, 3, 1, 4, 1, 2, 3, 1,\n",
       "       4, 1, 2, 3, 1, 4, 1, 2, 3, 1, 4, 1, 2, 3, 1, 4])"
      ]
     },
     "execution_count": 8,
     "metadata": {},
     "output_type": "execute_result"
    }
   ],
   "source": [
    "%time [abs(x) for x in [-1, 2, -3, -1, -4] * 100]\n",
    "%time np.abs([-1, 2, -3, -1, -4] * 100)"
   ]
  },
  {
   "cell_type": "markdown",
   "metadata": {},
   "source": [
    "Surprised? How about this"
   ]
  },
  {
   "cell_type": "code",
   "execution_count": 9,
   "metadata": {},
   "outputs": [
    {
     "name": "stdout",
     "output_type": "stream",
     "text": [
      "CPU times: user 355 µs, sys: 51 µs, total: 406 µs\n",
      "Wall time: 418 µs\n",
      "CPU times: user 41 µs, sys: 6 µs, total: 47 µs\n",
      "Wall time: 59.6 µs\n"
     ]
    },
    {
     "data": {
      "text/plain": [
       "array([1, 2, 3, 1, 4, 1, 2, 3, 1, 4, 1, 2, 3, 1, 4, 1, 2, 3, 1, 4, 1, 2,\n",
       "       3, 1, 4, 1, 2, 3, 1, 4, 1, 2, 3, 1, 4, 1, 2, 3, 1, 4, 1, 2, 3, 1,\n",
       "       4, 1, 2, 3, 1, 4, 1, 2, 3, 1, 4, 1, 2, 3, 1, 4, 1, 2, 3, 1, 4, 1,\n",
       "       2, 3, 1, 4, 1, 2, 3, 1, 4, 1, 2, 3, 1, 4, 1, 2, 3, 1, 4, 1, 2, 3,\n",
       "       1, 4, 1, 2, 3, 1, 4, 1, 2, 3, 1, 4, 1, 2, 3, 1, 4, 1, 2, 3, 1, 4,\n",
       "       1, 2, 3, 1, 4, 1, 2, 3, 1, 4, 1, 2, 3, 1, 4, 1, 2, 3, 1, 4, 1, 2,\n",
       "       3, 1, 4, 1, 2, 3, 1, 4, 1, 2, 3, 1, 4, 1, 2, 3, 1, 4, 1, 2, 3, 1,\n",
       "       4, 1, 2, 3, 1, 4, 1, 2, 3, 1, 4, 1, 2, 3, 1, 4, 1, 2, 3, 1, 4, 1,\n",
       "       2, 3, 1, 4, 1, 2, 3, 1, 4, 1, 2, 3, 1, 4, 1, 2, 3, 1, 4, 1, 2, 3,\n",
       "       1, 4, 1, 2, 3, 1, 4, 1, 2, 3, 1, 4, 1, 2, 3, 1, 4, 1, 2, 3, 1, 4,\n",
       "       1, 2, 3, 1, 4, 1, 2, 3, 1, 4, 1, 2, 3, 1, 4, 1, 2, 3, 1, 4, 1, 2,\n",
       "       3, 1, 4, 1, 2, 3, 1, 4, 1, 2, 3, 1, 4, 1, 2, 3, 1, 4, 1, 2, 3, 1,\n",
       "       4, 1, 2, 3, 1, 4, 1, 2, 3, 1, 4, 1, 2, 3, 1, 4, 1, 2, 3, 1, 4, 1,\n",
       "       2, 3, 1, 4, 1, 2, 3, 1, 4, 1, 2, 3, 1, 4, 1, 2, 3, 1, 4, 1, 2, 3,\n",
       "       1, 4, 1, 2, 3, 1, 4, 1, 2, 3, 1, 4, 1, 2, 3, 1, 4, 1, 2, 3, 1, 4,\n",
       "       1, 2, 3, 1, 4, 1, 2, 3, 1, 4, 1, 2, 3, 1, 4, 1, 2, 3, 1, 4, 1, 2,\n",
       "       3, 1, 4, 1, 2, 3, 1, 4, 1, 2, 3, 1, 4, 1, 2, 3, 1, 4, 1, 2, 3, 1,\n",
       "       4, 1, 2, 3, 1, 4, 1, 2, 3, 1, 4, 1, 2, 3, 1, 4, 1, 2, 3, 1, 4, 1,\n",
       "       2, 3, 1, 4, 1, 2, 3, 1, 4, 1, 2, 3, 1, 4, 1, 2, 3, 1, 4, 1, 2, 3,\n",
       "       1, 4, 1, 2, 3, 1, 4, 1, 2, 3, 1, 4, 1, 2, 3, 1, 4, 1, 2, 3, 1, 4,\n",
       "       1, 2, 3, 1, 4, 1, 2, 3, 1, 4, 1, 2, 3, 1, 4, 1, 2, 3, 1, 4, 1, 2,\n",
       "       3, 1, 4, 1, 2, 3, 1, 4, 1, 2, 3, 1, 4, 1, 2, 3, 1, 4, 1, 2, 3, 1,\n",
       "       4, 1, 2, 3, 1, 4, 1, 2, 3, 1, 4, 1, 2, 3, 1, 4])"
      ]
     },
     "execution_count": 9,
     "metadata": {},
     "output_type": "execute_result"
    }
   ],
   "source": [
    "array = np.array([-1, 2, -3, -1, -4] * 100)\n",
    "%time [abs(x) for x in array]\n",
    "%time np.abs(array)"
   ]
  },
  {
   "cell_type": "markdown",
   "metadata": {},
   "source": [
    "Stride tricks with numpy. <br><br>\n",
    "Sliding Window"
   ]
  },
  {
   "cell_type": "code",
   "execution_count": 16,
   "metadata": {},
   "outputs": [
    {
     "name": "stdout",
     "output_type": "stream",
     "text": [
      "[0 1 2 3 4 5 6 7 8 9]\n"
     ]
    }
   ],
   "source": [
    "a = np.arange(10)\n",
    "s = 2\n",
    "w = 4\n",
    "print(a)"
   ]
  },
  {
   "cell_type": "code",
   "execution_count": 17,
   "metadata": {},
   "outputs": [
    {
     "data": {
      "text/plain": [
       "array([[0, 1, 2, 3],\n",
       "       [1, 2, 3, 4],\n",
       "       [2, 3, 4, 5],\n",
       "       [3, 4, 5, 6],\n",
       "       [4, 5, 6, 7],\n",
       "       [5, 6, 7, 8],\n",
       "       [6, 7, 8, 9]])"
      ]
     },
     "execution_count": 17,
     "metadata": {},
     "output_type": "execute_result"
    }
   ],
   "source": [
    "np.lib.stride_tricks.as_strided(a, shape = (len(a) - w + 1, w), strides = a.strides * 2 )"
   ]
  },
  {
   "cell_type": "code",
   "execution_count": 22,
   "metadata": {},
   "outputs": [
    {
     "data": {
      "text/plain": [
       "<function ndarray.__array__>"
      ]
     },
     "execution_count": 22,
     "metadata": {},
     "output_type": "execute_result"
    }
   ],
   "source": [
    "np.lib.stride_tricks.as_strided(a, shape = (len(a) - w + 1, w), strides = a.strides * 2 )[::s]\n",
    "a.__array__"
   ]
  },
  {
   "cell_type": "markdown",
   "metadata": {},
   "source": [
    "Short aside - <br>\n",
    "`[::]` was added to Python at the request of the developers of Numerical Python, which uses the third argument extensively."
   ]
  },
  {
   "cell_type": "code",
   "execution_count": 13,
   "metadata": {},
   "outputs": [
    {
     "name": "stdout",
     "output_type": "stream",
     "text": [
      "[[ 0  1  2  3]\n",
      " [ 4  5  6  7]\n",
      " [ 8  9 10 11]\n",
      " [12 13 14 15]\n",
      " [16 17 18 19]]\n"
     ]
    }
   ],
   "source": [
    "a = np.arange(20).reshape(5, 4)\n",
    "print(a)"
   ]
  },
  {
   "cell_type": "code",
   "execution_count": 14,
   "metadata": {},
   "outputs": [
    {
     "data": {
      "text/plain": [
       "array([[[ 0,  1],\n",
       "        [ 4,  5]],\n",
       "\n",
       "       [[ 2,  3],\n",
       "        [ 6,  7]],\n",
       "\n",
       "       [[ 4,  5],\n",
       "        [ 8,  9]],\n",
       "\n",
       "       [[ 6,  7],\n",
       "        [10, 11]],\n",
       "\n",
       "       [[ 8,  9],\n",
       "        [12, 13]],\n",
       "\n",
       "       [[10, 11],\n",
       "        [14, 15]],\n",
       "\n",
       "       [[12, 13],\n",
       "        [16, 17]],\n",
       "\n",
       "       [[14, 15],\n",
       "        [18, 19]]])"
      ]
     },
     "execution_count": 14,
     "metadata": {},
     "output_type": "execute_result"
    }
   ],
   "source": [
    "np.lib.stride_tricks.as_strided(a, shape = (15, 2, 2), strides = (8, 32, 8))[::2]"
   ]
  },
  {
   "cell_type": "markdown",
   "metadata": {},
   "source": [
    "Instead of striding using [::2], chagne the shape and strides in as_strided to create same effect."
   ]
  },
  {
   "cell_type": "code",
   "execution_count": 17,
   "metadata": {},
   "outputs": [
    {
     "data": {
      "text/plain": [
       "array([[[ 0,  1],\n",
       "        [ 4,  5]],\n",
       "\n",
       "       [[ 2,  3],\n",
       "        [ 6,  7]],\n",
       "\n",
       "       [[ 4,  5],\n",
       "        [ 8,  9]],\n",
       "\n",
       "       [[ 6,  7],\n",
       "        [10, 11]],\n",
       "\n",
       "       [[ 8,  9],\n",
       "        [12, 13]],\n",
       "\n",
       "       [[10, 11],\n",
       "        [14, 15]],\n",
       "\n",
       "       [[12, 13],\n",
       "        [16, 17]],\n",
       "\n",
       "       [[14, 15],\n",
       "        [18, 19]]])"
      ]
     },
     "execution_count": 17,
     "metadata": {},
     "output_type": "execute_result"
    }
   ],
   "source": [
    "np.lib.stride_tricks.as_strided(a, shape = (8, 2, 2), strides = (16, 32, 8))"
   ]
  },
  {
   "cell_type": "code",
   "execution_count": 23,
   "metadata": {},
   "outputs": [
    {
     "data": {
      "text/plain": [
       "array([0, 1, 2, 3, 4, 5, 6, 7, 8, 9])"
      ]
     },
     "execution_count": 23,
     "metadata": {},
     "output_type": "execute_result"
    }
   ],
   "source": [
    "x = np.arange(10)\n",
    "x"
   ]
  },
  {
   "cell_type": "markdown",
   "metadata": {},
   "source": [
    "How do these arrays look in memory?"
   ]
  },
  {
   "cell_type": "markdown",
   "metadata": {},
   "source": [
    "![alt text](NDArray_structure.png \"NDArray Structure\")"
   ]
  },
  {
   "cell_type": "code",
   "execution_count": 19,
   "metadata": {},
   "outputs": [
    {
     "data": {
      "text/plain": [
       "{'data': (140641614568528, False),\n",
       " 'descr': [('', '<i8')],\n",
       " 'shape': (10,),\n",
       " 'strides': None,\n",
       " 'typestr': '<i8',\n",
       " 'version': 3}"
      ]
     },
     "execution_count": 19,
     "metadata": {},
     "output_type": "execute_result"
    }
   ],
   "source": [
    "x.__array_interface__"
   ]
  },
  {
   "cell_type": "code",
   "execution_count": 20,
   "metadata": {
    "collapsed": true
   },
   "outputs": [],
   "source": [
    "y = np.lib.stride_tricks.as_strided(x, shape = (9, 2), strides = x.strides * 2)"
   ]
  },
  {
   "cell_type": "code",
   "execution_count": 21,
   "metadata": {},
   "outputs": [
    {
     "data": {
      "text/plain": [
       "array([[0, 1],\n",
       "       [1, 2],\n",
       "       [2, 3],\n",
       "       [3, 4],\n",
       "       [4, 5],\n",
       "       [5, 6],\n",
       "       [6, 7],\n",
       "       [7, 8],\n",
       "       [8, 9]])"
      ]
     },
     "execution_count": 21,
     "metadata": {},
     "output_type": "execute_result"
    }
   ],
   "source": [
    "y"
   ]
  },
  {
   "cell_type": "code",
   "execution_count": 22,
   "metadata": {},
   "outputs": [
    {
     "data": {
      "text/plain": [
       "{'data': (140641614568528, False),\n",
       " 'descr': [('', '<i8')],\n",
       " 'shape': (9, 2),\n",
       " 'strides': (8, 8),\n",
       " 'typestr': '<i8',\n",
       " 'version': 3}"
      ]
     },
     "execution_count": 22,
     "metadata": {},
     "output_type": "execute_result"
    }
   ],
   "source": [
    "y.__array_interface__"
   ]
  },
  {
   "cell_type": "markdown",
   "metadata": {
    "collapsed": true
   },
   "source": [
    "Einsum <br>\n",
    "dot, diagonal, trace, sum, matrix multiplication"
   ]
  },
  {
   "cell_type": "code",
   "execution_count": 23,
   "metadata": {},
   "outputs": [],
   "source": [
    "A = np.array([[1, 1, 1],\n",
    "              [2, 2, 2],\n",
    "              [5, 5, 5]])\n",
    "\n",
    "B = np.array([[0, 1, 0],\n",
    "              [1, 1, 0],\n",
    "              [1, 1, 1]])"
   ]
  },
  {
   "cell_type": "markdown",
   "metadata": {},
   "source": [
    "Return a view of the matrix"
   ]
  },
  {
   "cell_type": "code",
   "execution_count": 27,
   "metadata": {},
   "outputs": [
    {
     "data": {
      "text/plain": [
       "array([ 3,  6, 15])"
      ]
     },
     "execution_count": 27,
     "metadata": {},
     "output_type": "execute_result"
    }
   ],
   "source": [
    "np.einsum('ij -> i', A) "
   ]
  },
  {
   "cell_type": "code",
   "execution_count": 28,
   "metadata": {},
   "outputs": [
    {
     "data": {
      "text/plain": [
       "array([[1, 1, 1],\n",
       "       [2, 2, 2],\n",
       "       [5, 5, 5]])"
      ]
     },
     "execution_count": 28,
     "metadata": {},
     "output_type": "execute_result"
    }
   ],
   "source": [
    "A.view()"
   ]
  },
  {
   "cell_type": "markdown",
   "metadata": {},
   "source": [
    "Matrix Transpose (doesn't work if you want to switch around axes in 3D etc.)"
   ]
  },
  {
   "cell_type": "code",
   "execution_count": 28,
   "metadata": {},
   "outputs": [
    {
     "data": {
      "text/plain": [
       "array([[1, 2, 5],\n",
       "       [1, 2, 5],\n",
       "       [1, 2, 5]])"
      ]
     },
     "execution_count": 28,
     "metadata": {},
     "output_type": "execute_result"
    }
   ],
   "source": [
    "np.einsum('ij -> ji', A)"
   ]
  },
  {
   "cell_type": "code",
   "execution_count": 29,
   "metadata": {},
   "outputs": [
    {
     "data": {
      "text/plain": [
       "array([[1, 2, 5],\n",
       "       [1, 2, 5],\n",
       "       [1, 2, 5]])"
      ]
     },
     "execution_count": 29,
     "metadata": {},
     "output_type": "execute_result"
    }
   ],
   "source": [
    "A.T"
   ]
  },
  {
   "cell_type": "markdown",
   "metadata": {},
   "source": [
    "Matrix Diagonal"
   ]
  },
  {
   "cell_type": "code",
   "execution_count": 30,
   "metadata": {},
   "outputs": [
    {
     "name": "stdout",
     "output_type": "stream",
     "text": [
      "CPU times: user 64 µs, sys: 9 µs, total: 73 µs\n",
      "Wall time: 87.5 µs\n"
     ]
    },
    {
     "data": {
      "text/plain": [
       "array([1, 2, 5])"
      ]
     },
     "execution_count": 30,
     "metadata": {},
     "output_type": "execute_result"
    }
   ],
   "source": [
    "%time np.einsum('ii->i', A)"
   ]
  },
  {
   "cell_type": "code",
   "execution_count": 31,
   "metadata": {},
   "outputs": [
    {
     "name": "stdout",
     "output_type": "stream",
     "text": [
      "CPU times: user 29 µs, sys: 13 µs, total: 42 µs\n",
      "Wall time: 48.2 µs\n"
     ]
    },
    {
     "data": {
      "text/plain": [
       "array([1, 2, 5])"
      ]
     },
     "execution_count": 31,
     "metadata": {},
     "output_type": "execute_result"
    }
   ],
   "source": [
    "%time np.diag(A)"
   ]
  },
  {
   "cell_type": "markdown",
   "metadata": {},
   "source": [
    "Matrix Trace"
   ]
  },
  {
   "cell_type": "code",
   "execution_count": 33,
   "metadata": {},
   "outputs": [
    {
     "name": "stdout",
     "output_type": "stream",
     "text": [
      "CPU times: user 49 µs, sys: 7 µs, total: 56 µs\n",
      "Wall time: 66.8 µs\n"
     ]
    },
    {
     "data": {
      "text/plain": [
       "8"
      ]
     },
     "execution_count": 33,
     "metadata": {},
     "output_type": "execute_result"
    }
   ],
   "source": [
    "%time np.einsum('ii -> ', A)"
   ]
  },
  {
   "cell_type": "markdown",
   "metadata": {},
   "source": [
    "Sum along an axis <br> You try!"
   ]
  },
  {
   "cell_type": "code",
   "execution_count": 34,
   "metadata": {},
   "outputs": [
    {
     "name": "stdout",
     "output_type": "stream",
     "text": [
      "CPU times: user 39 µs, sys: 1 µs, total: 40 µs\n",
      "Wall time: 46.3 µs\n",
      "CPU times: user 53 µs, sys: 0 ns, total: 53 µs\n",
      "Wall time: 59.8 µs\n"
     ]
    },
    {
     "data": {
      "text/plain": [
       "array([ 3,  6, 15])"
      ]
     },
     "execution_count": 34,
     "metadata": {},
     "output_type": "execute_result"
    }
   ],
   "source": [
    "%time np.einsum('ij->i', A)\n",
    "%time np.sum(A, axis=1)"
   ]
  },
  {
   "cell_type": "markdown",
   "metadata": {
    "collapsed": true
   },
   "source": [
    "Matrix and element-wise multiplication."
   ]
  },
  {
   "cell_type": "code",
   "execution_count": 35,
   "metadata": {},
   "outputs": [
    {
     "data": {
      "text/plain": [
       "array([[0, 1, 0],\n",
       "       [2, 2, 0],\n",
       "       [5, 5, 5]])"
      ]
     },
     "execution_count": 35,
     "metadata": {},
     "output_type": "execute_result"
    }
   ],
   "source": [
    "A * B"
   ]
  },
  {
   "cell_type": "code",
   "execution_count": 36,
   "metadata": {},
   "outputs": [
    {
     "data": {
      "text/plain": [
       "array([[0, 1, 0],\n",
       "       [2, 2, 0],\n",
       "       [5, 5, 5]])"
      ]
     },
     "execution_count": 36,
     "metadata": {},
     "output_type": "execute_result"
    }
   ],
   "source": [
    "np.einsum('ij, ij -> ij', A, B)"
   ]
  },
  {
   "cell_type": "code",
   "execution_count": 37,
   "metadata": {},
   "outputs": [
    {
     "data": {
      "text/plain": [
       "array([[ 2,  3,  1],\n",
       "       [ 4,  6,  2],\n",
       "       [10, 15,  5]])"
      ]
     },
     "execution_count": 37,
     "metadata": {},
     "output_type": "execute_result"
    }
   ],
   "source": [
    "A @ B"
   ]
  },
  {
   "cell_type": "code",
   "execution_count": 40,
   "metadata": {},
   "outputs": [
    {
     "name": "stdout",
     "output_type": "stream",
     "text": [
      "CPU times: user 39 µs, sys: 0 ns, total: 39 µs\n",
      "Wall time: 46 µs\n"
     ]
    },
    {
     "data": {
      "text/plain": [
       "array([[ 2,  3,  1],\n",
       "       [ 4,  6,  2],\n",
       "       [10, 15,  5]])"
      ]
     },
     "execution_count": 40,
     "metadata": {},
     "output_type": "execute_result"
    }
   ],
   "source": [
    "%time np.einsum('ij, jk-> ik', A, B)"
   ]
  },
  {
   "cell_type": "code",
   "execution_count": 41,
   "metadata": {},
   "outputs": [
    {
     "name": "stdout",
     "output_type": "stream",
     "text": [
      "CPU times: user 26 µs, sys: 6 µs, total: 32 µs\n",
      "Wall time: 39.8 µs\n"
     ]
    },
    {
     "data": {
      "text/plain": [
       "array([[ 2,  3,  1],\n",
       "       [ 4,  6,  2],\n",
       "       [10, 15,  5]])"
      ]
     },
     "execution_count": 41,
     "metadata": {},
     "output_type": "execute_result"
    }
   ],
   "source": [
    "%time np.dot(A, B)"
   ]
  },
  {
   "cell_type": "markdown",
   "metadata": {},
   "source": [
    "Using Einsum and stride tricks to do a convultion operation!"
   ]
  },
  {
   "cell_type": "markdown",
   "metadata": {},
   "source": [
    "![alt text](arbitrary_padding_no_strides.gif \"Convolution\")"
   ]
  },
  {
   "cell_type": "markdown",
   "metadata": {},
   "source": [
    "![alt text](2005-06-26-essence-of-images-convolution-matrix.png \"Convolution\")"
   ]
  },
  {
   "cell_type": "code",
   "execution_count": 42,
   "metadata": {},
   "outputs": [
    {
     "name": "stdout",
     "output_type": "stream",
     "text": [
      "[[ 0  1  2  3  4]\n",
      " [ 5  6  7  8  9]\n",
      " [10 11 12 13 14]\n",
      " [15 16 17 18 19]\n",
      " [20 21 22 23 24]]\n"
     ]
    }
   ],
   "source": [
    "matrix = np.arange(25).reshape((5, 5))\n",
    "print(matrix)"
   ]
  },
  {
   "cell_type": "code",
   "execution_count": 43,
   "metadata": {},
   "outputs": [
    {
     "name": "stdout",
     "output_type": "stream",
     "text": [
      "[[1 1 0]\n",
      " [1 2 3]\n",
      " [0 1 1]]\n"
     ]
    }
   ],
   "source": [
    "conv_filter = np.array([[1, 1, 0], [1, 2, 3], [0, 1, 1]])\n",
    "print(conv_filter)"
   ]
  },
  {
   "cell_type": "code",
   "execution_count": 45,
   "metadata": {},
   "outputs": [
    {
     "name": "stdout",
     "output_type": "stream",
     "text": [
      "(3, 3, 3, 3)\n",
      "(40, 8, 40, 8)\n"
     ]
    }
   ],
   "source": [
    "filter_shape = conv_filter.shape\n",
    "conv_shape   = tuple(np.subtract(matrix.shape, filter_shape) + 1) + filter_shape\n",
    "conv_strides = matrix.strides * 2\n",
    "print(conv_shape)\n",
    "print(conv_strides)"
   ]
  },
  {
   "cell_type": "code",
   "execution_count": 55,
   "metadata": {
    "collapsed": true
   },
   "outputs": [],
   "source": [
    "sub_matrices = np.lib.stride_tricks.as_strided(matrix, conv_shape, conv_strides)"
   ]
  },
  {
   "cell_type": "code",
   "execution_count": 56,
   "metadata": {},
   "outputs": [
    {
     "name": "stdout",
     "output_type": "stream",
     "text": [
      "[[[[ 0  1  2]\n",
      "   [ 5  6  7]\n",
      "   [10 11 12]]\n",
      "\n",
      "  [[ 1  2  3]\n",
      "   [ 6  7  8]\n",
      "   [11 12 13]]\n",
      "\n",
      "  [[ 2  3  4]\n",
      "   [ 7  8  9]\n",
      "   [12 13 14]]]\n",
      "\n",
      "\n",
      " [[[ 5  6  7]\n",
      "   [10 11 12]\n",
      "   [15 16 17]]\n",
      "\n",
      "  [[ 6  7  8]\n",
      "   [11 12 13]\n",
      "   [16 17 18]]\n",
      "\n",
      "  [[ 7  8  9]\n",
      "   [12 13 14]\n",
      "   [17 18 19]]]\n",
      "\n",
      "\n",
      " [[[10 11 12]\n",
      "   [15 16 17]\n",
      "   [20 21 22]]\n",
      "\n",
      "  [[11 12 13]\n",
      "   [16 17 18]\n",
      "   [21 22 23]]\n",
      "\n",
      "  [[12 13 14]\n",
      "   [17 18 19]\n",
      "   [22 23 24]]]]\n"
     ]
    }
   ],
   "source": [
    "print(sub_matrices)"
   ]
  },
  {
   "cell_type": "code",
   "execution_count": 57,
   "metadata": {
    "collapsed": true
   },
   "outputs": [],
   "source": [
    "convolved = np.einsum('ij, ijkl->kl', conv_filter, sub_matrices)"
   ]
  },
  {
   "cell_type": "code",
   "execution_count": 58,
   "metadata": {
    "scrolled": true
   },
   "outputs": [
    {
     "name": "stdout",
     "output_type": "stream",
     "text": [
      "[[ 62  72  82]\n",
      " [112 122 132]\n",
      " [162 172 182]]\n"
     ]
    }
   ],
   "source": [
    "print(convolved)"
   ]
  },
  {
   "cell_type": "markdown",
   "metadata": {},
   "source": [
    "Exercise!"
   ]
  },
  {
   "cell_type": "code",
   "execution_count": 33,
   "metadata": {},
   "outputs": [
    {
     "data": {
      "text/plain": [
       "array([ 0,  2,  4,  6,  8, 10, 12, 14])"
      ]
     },
     "execution_count": 33,
     "metadata": {},
     "output_type": "execute_result"
    }
   ],
   "source": [
    "a = np.arange(15)\n",
    "a\n",
    "a[::2]"
   ]
  },
  {
   "cell_type": "markdown",
   "metadata": {},
   "source": [
    "* Window this array such that each window has 3 elements in it with a jump of 2 windows\n",
    "* Find the row-wise mean of the last two elements in every alternate row.\n",
    "\n",
    "(Answer - [7, 8])"
   ]
  },
  {
   "cell_type": "code",
   "execution_count": null,
   "metadata": {
    "collapsed": true
   },
   "outputs": [],
   "source": []
  }
 ],
 "metadata": {
  "kernelspec": {
   "display_name": "Python 3",
   "language": "python",
   "name": "python3"
  },
  "language_info": {
   "codemirror_mode": {
    "name": "ipython",
    "version": 3
   },
   "file_extension": ".py",
   "mimetype": "text/x-python",
   "name": "python",
   "nbconvert_exporter": "python",
   "pygments_lexer": "ipython3",
   "version": "3.6.8"
  }
 },
 "nbformat": 4,
 "nbformat_minor": 2
}
